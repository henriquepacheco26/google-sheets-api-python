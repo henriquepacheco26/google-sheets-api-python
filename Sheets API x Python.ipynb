{
 "cells": [
  {
   "cell_type": "markdown",
   "id": "a1d881e2-4562-4a3d-8e0d-e7cc22193595",
   "metadata": {},
   "source": [
    "# 📊 Integração Python + Google Sheets \n",
    "\n",
    "Este projeto demonstra como extrair, transformar e carregar (ETL) dados de um arquivo CSV local para uma planilha do Google Sheets usando Python, pandas e a biblioteca gspread.\n",
    "\n",
    "O código foi desenvolvido em Jupyter Notebook (Sheets API x Python.ipynb) e segue um fluxo que vai desde a limpeza dos dados até a atualização automatizada de uma aba específica em uma planilha online.\n",
    "\n",
    "# 🚀 Funcionalidades\n",
    "\n",
    "📂 Leitura de CSV: importa bases de produção com separador ;.\n",
    "\n",
    "🧹 Limpeza e padronização:\n",
    "\n",
    "Remove duplicados.\n",
    "\n",
    "Ajusta colunas de códigos (Cód. Paciente, Cód. Admissão) para texto, removendo sufixos .0.\n",
    "\n",
    "📐 Transformações:\n",
    "\n",
    "Seleção e renomeação de colunas.\n",
    "\n",
    "Criação de campos como PERÍODO e OBSERVAÇÃO.\n",
    "\n",
    "Conversão de datas e indicadores para formatos adequados.\n",
    "\n",
    "📊 Preparação de DataFrame: organiza colunas na ordem esperada pelo Google Sheets.\n",
    "\n",
    "☁️ Integração com Google Sheets:\n",
    "\n",
    "Autenticação via Service Account (arquivo JSON).\n",
    "\n",
    "Conexão com planilha pelo ID.\n",
    "\n",
    "Escrita dos dados na aba Consolidado_Teste por meio do método append_row.\n",
    "\n",
    "# 🛠️ Tecnologias Utilizadas\n",
    "\n",
    "Python 3.x\n",
    "\n",
    "pandas\n",
    " — manipulação de dados.\n",
    "\n",
    "gspread\n",
    " — integração com Google Sheets.\n",
    "\n",
    "oauth2client\n",
    " — autenticação via chave de service account (⚠️ legado, recomenda-se migrar para google-auth).\n",
    "\n",
    "Google Sheets API\n",
    "\n",
    "# 📋 Estrutura do Código\n",
    "\n",
    "Imports: bibliotecas de manipulação de dados, autenticação e integração.\n",
    "\n",
    "Leitura e limpeza do CSV.\n",
    "\n",
    "Transformações e preparação dos dados (rob_hosp).\n",
    "\n",
    "Configuração da API do Google Sheets:\n",
    "\n",
    "Definição do scope.\n",
    "\n",
    "Carregamento das credenciais JSON.\n",
    "\n",
    "Autorização do cliente.\n",
    "\n",
    "Conexão com a planilha (via spreadsheet_id).\n",
    "\n",
    "Escrita dos dados: envio das linhas do DataFrame para o Google Sheets."
   ]
  },
  {
   "cell_type": "code",
   "execution_count": 2,
   "id": "5880df6c-a2f0-4546-bc83-755d8ac79af7",
   "metadata": {},
   "outputs": [],
   "source": [
    "import pandas as pd\n",
    "from datetime import datetime, timedelta"
   ]
  },
  {
   "cell_type": "raw",
   "id": "27e14caa-dbc1-425c-b7d2-c4e0491a50c6",
   "metadata": {},
   "source": [
    "Config. API"
   ]
  },
  {
   "cell_type": "markdown",
   "id": "e2d722ab-880d-49c9-bcd4-6e6284e9b774",
   "metadata": {},
   "source": [
    "https://developers.google.com/sheets/api/quickstart/python?hl=pt-br"
   ]
  },
  {
   "cell_type": "markdown",
   "id": "bcdd51c7-d6fa-4c78-8d1d-e9f2f1c56005",
   "metadata": {},
   "source": [
    "1o) Credenciais: Passo a passo video Hashtag (https://www.youtube.com/watch?v=l7pL_Y3fw-o)"
   ]
  },
  {
   "cell_type": "markdown",
   "id": "6dcf17f8-a1be-40fa-9807-ea0c249819a6",
   "metadata": {},
   "source": [
    "2o) Biblioteca Google Python"
   ]
  },
  {
   "cell_type": "markdown",
   "id": "3fe68190-ac66-4bb9-a5e6-ab486cf0184a",
   "metadata": {},
   "source": [
    "!pip install --upgrade google-api-python-client google-auth-httplib2 google-auth-oauthlib"
   ]
  },
  {
   "cell_type": "markdown",
   "id": "8d9092ff-5cad-4dc6-8849-786f62079c58",
   "metadata": {},
   "source": [
    "1o) QVIS - Produção Geral"
   ]
  },
  {
   "cell_type": "code",
   "execution_count": 19,
   "id": "10b33b8e-1d90-4ab9-90cf-77d5a612eca8",
   "metadata": {
    "scrolled": true
   },
   "outputs": [
    {
     "name": "stderr",
     "output_type": "stream",
     "text": [
      "C:\\Users\\HenriquedaLuzPacheco\\AppData\\Local\\Temp\\ipykernel_1176\\164990250.py:1: DtypeWarning: Columns (0,30,33) have mixed types. Specify dtype option on import or set low_memory=False.\n",
      "  df_prod = pd.read_csv(r\"C:\\Users\\HenriquedaLuzPacheco\\Vision One\\Pasta Pública - Pasta Pública\\ESTRATÉGIA\\Marketing\\Bases\\Bases CBV\\Produção\\CBV_ProdGeral_Total_07_02_25.csv\", sep=\";\")\n"
     ]
    }
   ],
   "source": [
    "df_prod = pd.read_csv(r\"caminho para ler o arquivo csv\", sep=\";\")\n",
    "\n",
    "df_prod = df_prod.drop_duplicates()\n",
    "df_prod['Cód. Paciente'] = df_prod['Cód. Paciente'].astype(str)\n",
    "df_prod['Cód. Paciente'] = df_prod['Cód. Paciente'].str.rstrip('.0')\n",
    "\n",
    "df_prod['Cód. Admissão'] = df_prod['Cód. Admissão'].astype(str)\n",
    "df_prod['Cód. Admissão'] = df_prod['Cód. Admissão'].str.rstrip('.0')"
   ]
  },
  {
   "cell_type": "code",
   "execution_count": null,
   "id": "d1df1b66-566d-46fc-9ed7-d40a0cb0e617",
   "metadata": {},
   "outputs": [],
   "source": [
    "df_prod.head()"
   ]
  },
  {
   "cell_type": "markdown",
   "id": "0e966e70-4474-4570-9cc0-ad3d0476831c",
   "metadata": {},
   "source": [
    "Agregações para montar base Indicadores: Colunas Finais\n",
    "\n",
    "HOSPITAL -\tFATOR\t- INDICADOR\t- MÉTRICA\t- ANO\t- MÊS\t- VALOR\t- PERÍODO\t- OBSERVAÇÃO\t- CONCAT\t- INDICADOR / OUTROS\t- Anomesdia"
   ]
  },
  {
   "cell_type": "code",
   "execution_count": 42,
   "id": "f29aece3-fe6e-4e87-b286-90aca60c7cad",
   "metadata": {},
   "outputs": [],
   "source": [
    "rob_hosp = df_prod.copy()\n",
    "\n",
    "# Create 'Anomesdia' column with the first day of the month in the desired format\n",
    "rob_hosp['Anomesdia'] = pd.to_datetime(rob_hosp['Data Admissão']).dt.strftime('01/%m/%Y')\n",
    "\n",
    "rob_hosp['Valor R$'] = rob_hosp['Valor Produzido'].astype(float)\n",
    "\n",
    "# Group by 'Grupo Hospitalar' and 'Anomesdia', then sum 'Valor R$'\n",
    "rob_hosp = rob_hosp.groupby(['Grupo Hospitalar', 'Anomesdia'], as_index=False)['Valor R$'].sum()"
   ]
  },
  {
   "cell_type": "code",
   "execution_count": null,
   "id": "d5678c3b-61e5-4e05-b6c6-9ba986ef9215",
   "metadata": {},
   "outputs": [],
   "source": [
    "rob_hosp.head()"
   ]
  },
  {
   "cell_type": "code",
   "execution_count": 44,
   "id": "58657c86-11b0-4378-a524-51d2f4fe68d5",
   "metadata": {},
   "outputs": [],
   "source": [
    "# Supondo que rob_hosp já esteja carregado no seu código e com a coluna 'Anomesdia' já convertida para datetime.\n",
    "\n",
    "# Renomeando a coluna 'Grupo Hospitalar'\n",
    "rob_hosp = rob_hosp.rename(columns={'Grupo Hospitalar': 'HOSPITAL'})\n",
    "\n",
    "# Adicionando as novas colunas\n",
    "rob_hosp['FATOR'] = 'FATURAMENTO'\n",
    "rob_hosp['INDICADOR'] = 'FATURAMENTO TOTAL'\n",
    "rob_hosp['MÉTRICA'] = 'Receita Bruta Produção'\n",
    "rob_hosp['Anomesdia'] = pd.to_datetime(rob_hosp['Anomesdia'], errors='coerce')\n",
    "\n",
    "# Extraindo o ano da coluna 'Anomesdia'\n",
    "rob_hosp['ANO'] = rob_hosp['Anomesdia'].dt.year\n",
    "rob_hosp['ANO'] = rob_hosp['ANO'].astype(str)\n",
    "\n",
    "# Extraindo o mês em português (abrev. de 3 letras)\n",
    "rob_hosp['MÊS'] = rob_hosp['Anomesdia'].dt.month_name().str[:3].str.upper()\n",
    "\n",
    "# Adicionando a coluna 'PERÍODO' com valor 'YTD'\n",
    "rob_hosp['PERÍODO'] = 'YTD'\n",
    "\n",
    "# Adicionando a coluna 'OBSERVAÇÃO' com valor nulo\n",
    "rob_hosp['OBSERVAÇÃO'] = None  # Ou você pode usar pd.NA ou np.nan se preferir valores nulos explícitos\n",
    "\n",
    "# Agrupando por 'HOSPITAL', 'ANO' e 'MÊS', e somando os valores\n",
    "rob_hosp = rob_hosp.groupby(['HOSPITAL', 'ANO', 'MÊS'], as_index=False)['Valor R$'].sum()\n",
    "\n",
    "# Mantendo as outras colunas com valores repetidos\n",
    "rob_hosp['FATOR'] = 'FATURAMENTO'\n",
    "rob_hosp['INDICADOR'] = 'FATURAMENTO TOTAL'\n",
    "rob_hosp['MÉTRICA'] = 'Receita Bruta Produção'\n",
    "rob_hosp['PERÍODO'] = 'YTD'\n",
    "rob_hosp['OBSERVAÇÃO'] = None  # Ou você pode usar pd.NA ou np.nan"
   ]
  },
  {
   "cell_type": "code",
   "execution_count": null,
   "id": "d1821ef0-a3b3-4f84-acc0-af83667f0648",
   "metadata": {},
   "outputs": [],
   "source": [
    "rob_hosp.head()"
   ]
  },
  {
   "cell_type": "code",
   "execution_count": 46,
   "id": "394fc406-5709-4fda-811f-f00c82a94fdf",
   "metadata": {},
   "outputs": [],
   "source": [
    "rob_hosp = rob_hosp[['HOSPITAL', 'FATOR', 'INDICADOR', 'MÉTRICA', 'ANO', 'MÊS', 'Valor R$', 'PERÍODO', 'OBSERVAÇÃO']].rename(\n",
    "    columns={'Valor R$':'VALOR'})"
   ]
  },
  {
   "cell_type": "code",
   "execution_count": null,
   "id": "34c29322-2e80-4616-b11d-08ff552b61bf",
   "metadata": {},
   "outputs": [],
   "source": [
    "rob_hosp.head()"
   ]
  },
  {
   "cell_type": "markdown",
   "id": "c3539e49-617e-4761-9c17-0891464b4fb4",
   "metadata": {},
   "source": [
    "!pip install gspread\n",
    "!pip install oauth2client"
   ]
  },
  {
   "cell_type": "markdown",
   "id": "d47983af-b54c-4cd0-96f0-f2ff74e3490f",
   "metadata": {},
   "source": [
    "# LER PLANILHA -> OBTER DADOS DE x ABA E INTERVALO -> GET"
   ]
  },
  {
   "cell_type": "code",
   "execution_count": 48,
   "id": "014562db-a3fa-4b44-af51-7d1406636d53",
   "metadata": {},
   "outputs": [],
   "source": [
    "import gspread\n",
    "from oauth2client.service_account import ServiceAccountCredentials\n",
    "\n",
    "# Usando o escopo adequado para acessar o Google Sheets e Google Drive -> permissoes de acesso\n",
    "scope = [\"https://spreadsheets.google.com/feeds\", \"https://www.googleapis.com/auth/spreadsheets\",\n",
    "         \"https://www.googleapis.com/auth/drive.file\", \"https://www.googleapis.com/auth/drive\"]\n",
    "\n",
    "# Caminho para o arquivo de chave JSON gerado pela Service Account\n",
    "creds = ServiceAccountCredentials.from_json_keyfile_name(r\"caminho para ler o arquivo de chave json\", scope)\n",
    "\n",
    "# Autentica e cria o cliente\n",
    "client = gspread.authorize(creds)\n",
    "\n",
    "# ID da planilha e intervalo (aqui, pegando as primeiras 10 linhas da planilha)\n",
    "SAMPLE_SPREADSHEET_ID = \" id da planilha \"\n",
    "SAMPLE_RANGE_NAME = \"Consolidado_Teste!A1:L10\"  # Alterando para ler as 10 primeiras linhas\n",
    "\n",
    "# Acessar a planilha e o intervalo\n",
    "spreadsheet = client.open_by_key(SAMPLE_SPREADSHEET_ID)\n",
    "sheet = spreadsheet.worksheet(\"Consolidado_Teste\")\n",
    "\n",
    "# Ler dados do intervalo especificado\n",
    "data = sheet.get_all_records()  # Retorna os registros dentro do intervalo\n",
    "\n",
    "# Convertendo para pandas DataFrame\n",
    "df = pd.DataFrame(data)"
   ]
  },
  {
   "cell_type": "code",
   "execution_count": null,
   "id": "967b9c35-bccb-485a-aa46-543179d74e47",
   "metadata": {},
   "outputs": [],
   "source": [
    "df.head()"
   ]
  },
  {
   "cell_type": "markdown",
   "id": "7a762cb8-12aa-490e-9dcc-5eaa10ba62f9",
   "metadata": {},
   "source": [
    "# ADICIONAR / ESCREVER VALORES NA PLANILHA -> UPDATE"
   ]
  },
  {
   "cell_type": "code",
   "execution_count": 50,
   "id": "a44eca22-3eec-47ce-87cd-da80901b7272",
   "metadata": {},
   "outputs": [
    {
     "name": "stderr",
     "output_type": "stream",
     "text": [
      "C:\\Users\\HenriquedaLuzPacheco\\AppData\\Local\\Temp\\ipykernel_1176\\3303554420.py:35: FutureWarning: DataFrame.applymap has been deprecated. Use DataFrame.map instead.\n",
      "  rob_hosp_converted = rob_hosp_converted.applymap(lambda x: x.strftime('%Y-%m-%d') if isinstance(x, pd.Timestamp) else x)\n"
     ]
    },
    {
     "name": "stdout",
     "output_type": "stream",
     "text": [
      "Dados adicionados com sucesso!\n"
     ]
    }
   ],
   "source": [
    "import gspread\n",
    "from oauth2client.service_account import ServiceAccountCredentials\n",
    "import pandas as pd\n",
    "\n",
    "# Usando o escopo adequado para acessar o Google Sheets e Google Drive -> permissoes de acesso\n",
    "scope = [\"https://spreadsheets.google.com/feeds\", \"https://www.googleapis.com/auth/spreadsheets\",\n",
    "         \"https://www.googleapis.com/auth/drive.file\", \"https://www.googleapis.com/auth/drive\"]\n",
    "\n",
    "creds = ServiceAccountCredentials.from_json_keyfile_name(r\" caminho para ler o arquivo de chave json \", scope)\n",
    "client = gspread.authorize(creds)\n",
    "\n",
    "# ID da planilha e nome da aba\n",
    "SAMPLE_SPREADSHEET_ID = \" id da planilha\"\n",
    "sheet = client.open_by_key(SAMPLE_SPREADSHEET_ID).worksheet(\"Consolidado_Teste\")\n",
    "\n",
    "# Obtém todos os valores da aba\n",
    "all_values = sheet.get_all_values()\n",
    "first_non_null_row = next((i for i, row in enumerate(all_values) if any(cell for cell in row)), None)\n",
    "\n",
    "# Definição das colunas na ordem correta\n",
    "correct_order = [\n",
    "    'HOSPITAL', 'FATOR', 'INDICADOR', 'MÉTRICA', 'ANO', 'MÊS', 'VALOR', \n",
    "    'PERÍODO', 'OBSERVAÇÃO'\n",
    "]\n",
    "\n",
    "# Certifique-se de que a variável `rob_hosp_converted` existe antes de usá-la\n",
    "if 'rob_hosp' in locals():\n",
    "    rob_hosp_converted = rob_hosp.copy()\n",
    "\n",
    "    # Removendo colunas desnecessárias, se existirem\n",
    "    columns_to_drop = ['CONCAT', 'INDICADOR / OUTROS', 'Anomesdia']\n",
    "    rob_hosp_converted = rob_hosp_converted.drop(columns=[col for col in columns_to_drop if col in rob_hosp_converted.columns], errors='ignore')\n",
    "\n",
    "    # Convertendo Timestamps para string\n",
    "    rob_hosp_converted = rob_hosp_converted.applymap(lambda x: x.strftime('%Y-%m-%d') if isinstance(x, pd.Timestamp) else x)\n",
    "\n",
    "    # Filtrando as colunas na ordem correta\n",
    "    rob_hosp_converted = rob_hosp_converted[correct_order]\n",
    "\n",
    "    # Convertendo para lista de listas\n",
    "    new_data = rob_hosp_converted.values.tolist()\n",
    "\n",
    "    # Inserindo os dados na planilha\n",
    "    if first_non_null_row is not None:\n",
    "        for row in new_data:\n",
    "            sheet.append_row(row)\n",
    "        print(\"Dados adicionados com sucesso!\")\n",
    "    else:\n",
    "        print(\"Não foi possível encontrar a primeira linha não nula.\")\n",
    "else:\n",
    "    print(\"Erro: O DataFrame `rob_hosp` não foi definido.\")"
   ]
  },
  {
   "cell_type": "code",
   "execution_count": null,
   "id": "06f962d3-baec-4600-aac4-5fc822e1b7cc",
   "metadata": {},
   "outputs": [],
   "source": []
  }
 ],
 "metadata": {
  "kernelspec": {
   "display_name": "Python 3 (ipykernel)",
   "language": "python",
   "name": "python3"
  },
  "language_info": {
   "codemirror_mode": {
    "name": "ipython",
    "version": 3
   },
   "file_extension": ".py",
   "mimetype": "text/x-python",
   "name": "python",
   "nbconvert_exporter": "python",
   "pygments_lexer": "ipython3",
   "version": "3.12.7"
  }
 },
 "nbformat": 4,
 "nbformat_minor": 5
}
